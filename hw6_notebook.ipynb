{
 "cells": [
  {
   "cell_type": "markdown",
   "metadata": {},
   "source": [
    "Домашняя работа по теме \"Функциональное программирование в Python\""
   ]
  },
  {
   "cell_type": "markdown",
   "metadata": {},
   "source": [
    "Задача №1 Фильтрация данных"
   ]
  },
  {
   "cell_type": "code",
   "execution_count": 36,
   "metadata": {},
   "outputs": [],
   "source": [
    "def check_length(city_name): # Возвращает False, если длина строки меньше трех символов, иначе True\n",
    "    return len(city_name) >= 3\n",
    "\n",
    "def filter_cities(cities): # Возвращает список городов длиной не менее трех символов.\n",
    "    return list(filter(check_length, cities)) # Фильтруем данные используя filter и функцию check_length\n",
    "\n",
    "def task_1(): # Функция ввода исходных данных и вывода результата\n",
    "    cities_input = input(\"Введите названия городов, разделенных пробелом: \") # Ввод списка названий городов\n",
    "    print(f'Исходный список городов: {cities_input}')\n",
    "    filtered_cities = filter_cities(cities_input.split()) # Преобразуем в список и применяем фильтрацию\n",
    "    print(f'Города длиной не менее трех символов: {filtered_cities}') # Вывод результата"
   ]
  },
  {
   "cell_type": "code",
   "execution_count": 37,
   "metadata": {},
   "outputs": [
    {
     "name": "stdout",
     "output_type": "stream",
     "text": [
      "Исходный список городов: Саратов Ош Пенза Яи Самара\n",
      "Города длиной не менее трех символов: ['Саратов', 'Пенза', 'Самара']\n"
     ]
    }
   ],
   "source": [
    "task_1() # Вызываем функцию ввода данных"
   ]
  },
  {
   "cell_type": "markdown",
   "metadata": {},
   "source": [
    "Задача №2 Вложенные функции"
   ]
  },
  {
   "cell_type": "code",
   "execution_count": 38,
   "metadata": {},
   "outputs": [],
   "source": [
    "def get_list(input_string): # Принимает строку и возвращает список чисел\n",
    "    return list(map(int, input_string.split()))  # Преобразуем строку в список\n",
    "\n",
    "def sort_func(func): # Принимает функцию и сортирует результат\n",
    "    result = func()  # Вызываем переданную функцию\n",
    "    return sorted(result)  # Сортируем результат и возвращаем\n",
    "\n",
    "def task_2(): # Функция ввода исходных данных и вывода результата\n",
    "    input_string = input(\"Введите целые числа, разделенные пробелами: \") # Ввод строки с целыми числами\n",
    "    print(f'Исходный список чисел: {input_string}')\n",
    "    sorted_numbers = sort_func(lambda: get_list(input_string))  # Вызываем sort_func с get_list как аргумент через lambda функцию\n",
    "    print(f'Отсортированный список чисел: {sorted_numbers}') # Вывод результата"
   ]
  },
  {
   "cell_type": "code",
   "execution_count": 39,
   "metadata": {},
   "outputs": [
    {
     "name": "stdout",
     "output_type": "stream",
     "text": [
      "Исходный список чисел: 45 23 1 6\n",
      "Отсортированный список чисел: [1, 6, 23, 45]\n"
     ]
    }
   ],
   "source": [
    "task_2()"
   ]
  },
  {
   "cell_type": "markdown",
   "metadata": {},
   "source": [
    "Задача №3 Перестановки строк"
   ]
  },
  {
   "cell_type": "code",
   "execution_count": 40,
   "metadata": {},
   "outputs": [],
   "source": [
    "import itertools\n",
    "def get_permutations(s, n): # Перестановки\n",
    "    perms = itertools.permutations(s, n) # генерирует перестановки длинной n\n",
    "    unique_perms = set([''.join(p) for p in perms]) # Преобразуем кортежи обратно в строки и удаляем дубликаты\n",
    "    sorted_perms = sorted(unique_perms) # Сортируем уникальные перестановки в лексикографическом порядке\n",
    "    return sorted_perms\n",
    "\n",
    "def task_3 (): # Функция ввода исходных данных и вывода результата\n",
    "    input_string = input(\"Введите строку: \") # ВВод строки\n",
    "    n = int(input(\"Введите количество символов для перестановки: \")) # Ввод количества символов для перестановки\n",
    "    result = get_permutations(input_string, n) # вызываем функцию перестановки\n",
    "    print(f'Перестановки в лексикографическом порядке строки {input_string}, кол-во символов: {n}') # Вывод результата\n",
    "    print(result)"
   ]
  },
  {
   "cell_type": "code",
   "execution_count": 41,
   "metadata": {},
   "outputs": [
    {
     "name": "stdout",
     "output_type": "stream",
     "text": [
      "Перестановки в лексикографическом порядке строки сон, кол-во символов: 2\n",
      "['но', 'нс', 'он', 'ос', 'сн', 'со']\n"
     ]
    }
   ],
   "source": [
    "task_3()"
   ]
  },
  {
   "cell_type": "markdown",
   "metadata": {},
   "source": [
    "Задача №4 Комбинации символов"
   ]
  },
  {
   "cell_type": "code",
   "execution_count": 42,
   "metadata": {},
   "outputs": [],
   "source": [
    "import itertools\n",
    " \n",
    "def get_combinations(s, k): # Комбинирует символы\n",
    "    all_combinations = []\n",
    "    for i in range(1, k + 1): # Цикл от 1 до k\n",
    "        combinations = itertools.combinations(s, i) # считаем комбинации длинны i\n",
    "        all_combinations.extend([''.join(combo) for combo in combinations]) # Добавляем в список\n",
    "    return all_combinations\n",
    "\n",
    "def task_4(): # Функция ввода данных и вывода результата\n",
    "    input_string = input(\"Введите строку: \") # Ввод строки\n",
    "    k = int(input(\"Введите максимальную длину: \")) # Ввод длинны\n",
    "    result = get_combinations(input_string, k) # Вызываем функцию комбинации символов\n",
    "    print(f'Возможные комбинации строки {input_string} c длинной <= {k}') # Вывод результата\n",
    "    print(result)"
   ]
  },
  {
   "cell_type": "code",
   "execution_count": 43,
   "metadata": {},
   "outputs": [
    {
     "name": "stdout",
     "output_type": "stream",
     "text": [
      "Возможные комбинации строки сток c длинной <= 2\n",
      "['с', 'т', 'о', 'к', 'ст', 'со', 'ск', 'то', 'тк', 'ок']\n"
     ]
    }
   ],
   "source": [
    "task_4()"
   ]
  },
  {
   "cell_type": "markdown",
   "metadata": {},
   "source": [
    "Задача №5 Функция с частичными аргументами"
   ]
  },
  {
   "cell_type": "code",
   "execution_count": 44,
   "metadata": {},
   "outputs": [],
   "source": [
    "from functools import partial\n",
    "\n",
    "def sort_users_by_age(users, reverse=False):  # возвращает сортированный список пользователей\n",
    "    return sorted(users, key=lambda user: user['age'], reverse=reverse)\n",
    "\n",
    "# Создание частичных функций для сортировки\n",
    "sort_by_age_asc = partial(sort_users_by_age, reverse=False)  # Сортировка по возрастанию\n",
    "\n",
    "sort_by_age_desc = partial(sort_users_by_age, reverse=True)  # Сортировка по убыванию\n",
    "\n",
    "def task_5(users): # Функция вывода результата\n",
    "    print(f'Сортировка по возрастанию: {sort_by_age_asc(users)}')\n",
    "    print(f'Сортировка по убыванию: {sort_by_age_desc(users)}')"
   ]
  },
  {
   "cell_type": "code",
   "execution_count": 45,
   "metadata": {},
   "outputs": [
    {
     "name": "stdout",
     "output_type": "stream",
     "text": [
      "Сортировка по возрастанию: [{'name': 'Ольга', 'age': 25}, {'name': 'Василий', 'age': 30}, {'name': 'Иван', 'age': 50}]\n",
      "Сортировка по убыванию: [{'name': 'Иван', 'age': 50}, {'name': 'Василий', 'age': 30}, {'name': 'Ольга', 'age': 25}]\n"
     ]
    }
   ],
   "source": [
    "# Словарь с пользователями и возрастом\n",
    "users = [\n",
    "    {'name': 'Василий', 'age': 30},\n",
    "    {'name': 'Ольга', 'age': 25},\n",
    "    {'name': 'Иван', 'age': 50},\n",
    "] \n",
    "task_5(users)"
   ]
  }
 ],
 "metadata": {
  "kernelspec": {
   "display_name": "Python 3",
   "language": "python",
   "name": "python3"
  },
  "language_info": {
   "codemirror_mode": {
    "name": "ipython",
    "version": 3
   },
   "file_extension": ".py",
   "mimetype": "text/x-python",
   "name": "python",
   "nbconvert_exporter": "python",
   "pygments_lexer": "ipython3",
   "version": "3.13.0"
  }
 },
 "nbformat": 4,
 "nbformat_minor": 2
}
